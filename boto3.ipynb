{
 "cells": [
  {
   "cell_type": "markdown",
   "metadata": {},
   "source": [
    "## In Class Demo"
   ]
  },
  {
   "cell_type": "code",
   "execution_count": 2,
   "metadata": {},
   "outputs": [],
   "source": [
    "# !pip install boto3"
   ]
  },
  {
   "cell_type": "code",
   "execution_count": 1,
   "metadata": {},
   "outputs": [],
   "source": [
    "import configparser\n",
    "\n",
    "config = configparser.ConfigParser()\n",
    "\n",
    "config.read('aws.cfg')\n",
    "\n",
    "aws_access_key = config['AWS']['aws_access_key_id']\n",
    "aws_secret_key = config['AWS']['aws_secret_access_key']"
   ]
  },
  {
   "cell_type": "code",
   "execution_count": 2,
   "metadata": {},
   "outputs": [],
   "source": [
    "import boto3"
   ]
  },
  {
   "cell_type": "code",
   "execution_count": 3,
   "metadata": {},
   "outputs": [],
   "source": [
    "s3 = boto3.client(\n",
    "    's3',\n",
    "    aws_access_key_id=aws_access_key,\n",
    "    aws_secret_access_key=aws_secret_key\n",
    ")"
   ]
  },
  {
   "cell_type": "code",
   "execution_count": 4,
   "metadata": {},
   "outputs": [
    {
     "data": {
      "text/plain": [
       "{'ResponseMetadata': {'RequestId': '7J62GDYCVW81S8SJ',\n",
       "  'HostId': 'JRS5erNgYQlNIMW9ZT35q2xHJYz+35ComPvXPfTCmnDQZFm1J4GTIXLfZ+CnCWvo1xxVuu4CFyU=',\n",
       "  'HTTPStatusCode': 200,\n",
       "  'HTTPHeaders': {'x-amz-id-2': 'JRS5erNgYQlNIMW9ZT35q2xHJYz+35ComPvXPfTCmnDQZFm1J4GTIXLfZ+CnCWvo1xxVuu4CFyU=',\n",
       "   'x-amz-request-id': '7J62GDYCVW81S8SJ',\n",
       "   'date': 'Tue, 23 Jul 2024 05:33:38 GMT',\n",
       "   'content-type': 'application/xml',\n",
       "   'transfer-encoding': 'chunked',\n",
       "   'server': 'AmazonS3'},\n",
       "  'RetryAttempts': 0},\n",
       " 'LocationConstraint': 'us-west-2'}"
      ]
     },
     "execution_count": 4,
     "metadata": {},
     "output_type": "execute_result"
    }
   ],
   "source": [
    "response = s3.get_bucket_location(Bucket='techcatalyst-public')\n",
    "response"
   ]
  },
  {
   "cell_type": "code",
   "execution_count": 5,
   "metadata": {},
   "outputs": [
    {
     "data": {
      "text/plain": [
       "dict"
      ]
     },
     "execution_count": 5,
     "metadata": {},
     "output_type": "execute_result"
    }
   ],
   "source": [
    "type(response)"
   ]
  },
  {
   "cell_type": "code",
   "execution_count": 20,
   "metadata": {},
   "outputs": [
    {
     "name": "stdout",
     "output_type": "stream",
     "text": [
      "AmazonS3 Mon, 22 Jul 2024 14:38:39 GMT\n"
     ]
    }
   ],
   "source": [
    "date_req = response['ResponseMetadata']['HTTPHeaders']['date']\n",
    "server = response['ResponseMetadata']['HTTPHeaders']['server']\n",
    "print(server, date_req)\n"
   ]
  },
  {
   "cell_type": "code",
   "execution_count": 12,
   "metadata": {},
   "outputs": [
    {
     "data": {
      "text/plain": [
       "dict_keys(['ResponseMetadata', 'LocationConstraint'])"
      ]
     },
     "execution_count": 12,
     "metadata": {},
     "output_type": "execute_result"
    }
   ],
   "source": [
    "response.keys()"
   ]
  },
  {
   "cell_type": "code",
   "execution_count": 6,
   "metadata": {},
   "outputs": [
    {
     "name": "stdout",
     "output_type": "stream",
     "text": [
      "us-west-2\n"
     ]
    }
   ],
   "source": [
    "region = response['LocationConstraint']\n",
    "print(region)"
   ]
  },
  {
   "cell_type": "code",
   "execution_count": 7,
   "metadata": {},
   "outputs": [],
   "source": [
    "response = s3.list_buckets()\n"
   ]
  },
  {
   "cell_type": "code",
   "execution_count": 8,
   "metadata": {},
   "outputs": [
    {
     "data": {
      "text/plain": [
       "dict_keys(['ResponseMetadata', 'Buckets', 'Owner'])"
      ]
     },
     "execution_count": 8,
     "metadata": {},
     "output_type": "execute_result"
    }
   ],
   "source": [
    "response.keys()"
   ]
  },
  {
   "cell_type": "code",
   "execution_count": 9,
   "metadata": {},
   "outputs": [
    {
     "data": {
      "text/plain": [
       "['alina-techcatalyst-bucket',\n",
       " 'andy-techcatalyst-client',\n",
       " 'andy-techcatalyst-target',\n",
       " 'aryan-techcatalyst-lab',\n",
       " 'ben-techcatalyst-lab',\n",
       " 'gina-techcatalyst-lab',\n",
       " 'gina-techcatalyst-target',\n",
       " 'isabella-techcatalyst-lab',\n",
       " 'kaitlyn-techcatalyst-lab',\n",
       " 'nithila-techcatalyst-lab',\n",
       " 'samee-techcatalyst-lab',\n",
       " 'sriya-techcatalyst-lab',\n",
       " 'sriya-techcatalyst-lab-target',\n",
       " 'tatwan-techcatalyst-lab',\n",
       " 'techcatalyst-labs',\n",
       " 'techcatalyst-public',\n",
       " 'techcatalyst-raw',\n",
       " 'techcatalyst-target',\n",
       " 'techcatalyst-transformed',\n",
       " 'techcatalyst-transformed-glue']"
      ]
     },
     "execution_count": 9,
     "metadata": {},
     "output_type": "execute_result"
    }
   ],
   "source": [
    "mybuckets = []\n",
    "for b in response['Buckets']:\n",
    "    if 'techcatalyst' in b['Name']:\n",
    "        mybuckets.append(b['Name'])\n",
    "\n",
    "mybuckets"
   ]
  },
  {
   "cell_type": "code",
   "execution_count": 10,
   "metadata": {},
   "outputs": [
    {
     "data": {
      "text/plain": [
       "['alina-techcatalyst-bucket',\n",
       " 'andy-techcatalyst-client',\n",
       " 'andy-techcatalyst-target',\n",
       " 'aryan-techcatalyst-lab',\n",
       " 'ben-techcatalyst-lab',\n",
       " 'gina-techcatalyst-lab',\n",
       " 'gina-techcatalyst-target',\n",
       " 'isabella-techcatalyst-lab',\n",
       " 'kaitlyn-techcatalyst-lab',\n",
       " 'nithila-techcatalyst-lab',\n",
       " 'samee-techcatalyst-lab',\n",
       " 'sriya-techcatalyst-lab',\n",
       " 'sriya-techcatalyst-lab-target',\n",
       " 'tatwan-techcatalyst-lab',\n",
       " 'techcatalyst-labs',\n",
       " 'techcatalyst-public',\n",
       " 'techcatalyst-raw',\n",
       " 'techcatalyst-target',\n",
       " 'techcatalyst-transformed',\n",
       " 'techcatalyst-transformed-glue']"
      ]
     },
     "execution_count": 10,
     "metadata": {},
     "output_type": "execute_result"
    }
   ],
   "source": [
    "[b['Name'] for b in response['Buckets'] if 'techcatalyst' in b['Name']]"
   ]
  },
  {
   "cell_type": "code",
   "execution_count": 12,
   "metadata": {},
   "outputs": [],
   "source": [
    "# Creating a bucket\n",
    "\n",
    "bucket_name = 'tatwan-techcatalyst-lab'\n",
    "location =  {'LocationConstraint': 'us-west-2'}\n",
    "\n",
    "s3.create_bucket(\n",
    "    Bucket=bucket_name,\n",
    "    CreateBucketConfiguration=location\n",
    ")"
   ]
  },
  {
   "cell_type": "code",
   "execution_count": 13,
   "metadata": {},
   "outputs": [
    {
     "data": {
      "text/plain": [
       "'tatwan-techcatalyst-lab'"
      ]
     },
     "execution_count": 13,
     "metadata": {},
     "output_type": "execute_result"
    }
   ],
   "source": [
    "bucket_name"
   ]
  },
  {
   "cell_type": "code",
   "execution_count": 56,
   "metadata": {},
   "outputs": [],
   "source": [
    "# Using upload_file example\n",
    "\n",
    "myfile = ['sales.csv', 'boto3.ipynb', 'image1.jpg']\n",
    "\n",
    "\n",
    "for file in myfile:\n",
    "   output =  s3.upload_file(file, bucket_name, file)\n",
    "output"
   ]
  },
  {
   "cell_type": "code",
   "execution_count": 50,
   "metadata": {},
   "outputs": [],
   "source": [
    "# Using download_file example\n",
    "for file in myfile:\n",
    "    s3.download_file(Bucket=bucket_name, Key=file, Filename=f'downloads/{file}')"
   ]
  },
  {
   "cell_type": "code",
   "execution_count": 57,
   "metadata": {},
   "outputs": [
    {
     "data": {
      "text/plain": [
       "{'ResponseMetadata': {'RequestId': '1ZFNE6QHMZQP4CMX',\n",
       "  'HostId': 'B3fWmsQLAdPn2J3XiM5uaWQOCzew4kSE0SKZ4vx87CU8Br7T3Nd9CoNiwZg+W5SekP4/EokfaRjH6Vtk/Vk/Jw==',\n",
       "  'HTTPStatusCode': 200,\n",
       "  'HTTPHeaders': {'x-amz-id-2': 'B3fWmsQLAdPn2J3XiM5uaWQOCzew4kSE0SKZ4vx87CU8Br7T3Nd9CoNiwZg+W5SekP4/EokfaRjH6Vtk/Vk/Jw==',\n",
       "   'x-amz-request-id': '1ZFNE6QHMZQP4CMX',\n",
       "   'date': 'Mon, 22 Jul 2024 15:04:44 GMT',\n",
       "   'x-amz-server-side-encryption': 'AES256',\n",
       "   'etag': '\"1f98a680073341ba8b35bc35a40171c8\"',\n",
       "   'server': 'AmazonS3',\n",
       "   'content-length': '0'},\n",
       "  'RetryAttempts': 0},\n",
       " 'ETag': '\"1f98a680073341ba8b35bc35a40171c8\"',\n",
       " 'ServerSideEncryption': 'AES256'}"
      ]
     },
     "execution_count": 57,
     "metadata": {},
     "output_type": "execute_result"
    }
   ],
   "source": [
    "# using put_object \n",
    "with open('image1.jpg', 'rb') as f:\n",
    "    output = s3.put_object(Bucket=bucket_name, Key='test.jpg', Body=f)\n",
    "output "
   ]
  },
  {
   "cell_type": "code",
   "execution_count": 58,
   "metadata": {},
   "outputs": [],
   "source": [
    "# using upload_fileobj\n",
    "with open('image1.jpg', 'rb') as f:\n",
    "    output = s3.upload_fileobj(f, bucket_name, 'test2.jpg')\n",
    "output"
   ]
  },
  {
   "cell_type": "markdown",
   "metadata": {},
   "source": [
    "**Download a File using `download_file` `download_fileobj`, and `get_object`**"
   ]
  },
  {
   "cell_type": "code",
   "execution_count": null,
   "metadata": {},
   "outputs": [],
   "source": [
    "output = s3.download_file(Bucket=bucket_name, Key='testing_notebook.ipynb', Filename='tarek-testing.ipynb')\n",
    "print(output)"
   ]
  },
  {
   "cell_type": "code",
   "execution_count": null,
   "metadata": {},
   "outputs": [],
   "source": [
    "with open('fileobject_testing.ipynb', 'wb') as f:\n",
    "    output = s3.download_fileobj(Bucket=bucket_name, Key='testing_notebook.ipynb', Fileobj=f)\n",
    "    print(output)"
   ]
  },
  {
   "cell_type": "code",
   "execution_count": null,
   "metadata": {},
   "outputs": [],
   "source": [
    "output = s3.get_object(Bucket=bucket_name, Key='put_testing.ipynb')\n",
    "print(output)"
   ]
  },
  {
   "cell_type": "code",
   "execution_count": null,
   "metadata": {},
   "outputs": [],
   "source": [
    "# Read the object's content\n",
    "with open('get-testing.ipynb', 'w') as f:\n",
    "    output = s3.get_object(Bucket=bucket_name, Key='testing_notebook.ipynb')\n",
    "    print(output['Body'].read().decode('utf-8'))"
   ]
  },
  {
   "cell_type": "markdown",
   "metadata": {},
   "source": [
    "## AWS SDK for pandas"
   ]
  },
  {
   "cell_type": "code",
   "execution_count": 15,
   "metadata": {},
   "outputs": [],
   "source": [
    "# !conda install -c conda-forge awswrangler -y"
   ]
  },
  {
   "cell_type": "code",
   "execution_count": null,
   "metadata": {},
   "outputs": [],
   "source": [
    "import awswrangler as wr\n",
    "\n",
    "boto3.setup_default_session(\n",
    "    aws_access_key_id=aws_access_key,\n",
    "    aws_secret_access_key=aws_secret_key,\n",
    "    region_name=\"us-east-1\")"
   ]
  },
  {
   "cell_type": "code",
   "execution_count": null,
   "metadata": {},
   "outputs": [],
   "source": [
    "df = pd.DataFrame({\"id\": [1, 2], \"value\": [\"foo\", \"boo\"]})\n",
    "\n",
    "# Storing data on Data Lake\n",
    "wr.s3.to_parquet(\n",
    "    df=df,\n",
    "    path=\"s3://techcatalyst-target//\",\n",
    "    dataset=True,\n",
    "    database=\"taxi-atwan\",\n",
    "    table=\"awsnew\"\n",
    ")"
   ]
  },
  {
   "cell_type": "code",
   "execution_count": null,
   "metadata": {},
   "outputs": [],
   "source": []
  }
 ],
 "metadata": {
  "kernelspec": {
   "display_name": "Python 3",
   "language": "python",
   "name": "python3"
  },
  "language_info": {
   "codemirror_mode": {
    "name": "ipython",
    "version": 3
   },
   "file_extension": ".py",
   "mimetype": "text/x-python",
   "name": "python",
   "nbconvert_exporter": "python",
   "pygments_lexer": "ipython3",
   "version": "3.10.13"
  }
 },
 "nbformat": 4,
 "nbformat_minor": 2
}
